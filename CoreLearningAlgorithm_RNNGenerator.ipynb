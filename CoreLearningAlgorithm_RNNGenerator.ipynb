{
  "nbformat": 4,
  "nbformat_minor": 0,
  "metadata": {
    "colab": {
      "provenance": []
    },
    "kernelspec": {
      "name": "python3",
      "display_name": "Python 3"
    },
    "language_info": {
      "name": "python"
    }
  },
  "cells": [
    {
      "cell_type": "code",
      "execution_count": null,
      "metadata": {
        "id": "g-ACh5XfVBvK"
      },
      "outputs": [],
      "source": [
        "# RNN PLAY GENERATOR"
      ]
    },
    {
      "cell_type": "code",
      "source": [
        "from keras.preprocessing import sequence\n",
        "import keras\n",
        "import tensorflow as tf\n",
        "import os\n",
        "import numpy as np"
      ],
      "metadata": {
        "id": "0T8S_vK98ZHv"
      },
      "execution_count": null,
      "outputs": []
    },
    {
      "cell_type": "code",
      "source": [
        "# Dataset\n",
        "\n",
        "path_to_file = tf.keras.utils.get_file(\"shakespeare.txt\", \"https://storage.googleapis.com/download.tensorflow.org/data/shakespeare.txt\")"
      ],
      "metadata": {
        "colab": {
          "base_uri": "https://localhost:8080/"
        },
        "id": "udcB9zhfVIhJ",
        "outputId": "2583bde2-9854-469f-dfc4-99a33c9b44db"
      },
      "execution_count": null,
      "outputs": [
        {
          "output_type": "stream",
          "name": "stdout",
          "text": [
            "Downloading data from https://storage.googleapis.com/download.tensorflow.org/data/shakespeare.txt\n",
            "1115394/1115394 [==============================] - 0s 0us/step\n"
          ]
        }
      ]
    },
    {
      "cell_type": "code",
      "source": [
        "# Read contents of file\n",
        "# Read, then decode for py2 compat\n",
        "\n",
        "text = open(path_to_file, \"rb\").read().decode(encoding=\"utf-8\")\n",
        "\n",
        "# length of text is the number of characters in it\n",
        "\n",
        "print(f\"Length of the text: {len(text)} characters\")"
      ],
      "metadata": {
        "colab": {
          "base_uri": "https://localhost:8080/"
        },
        "id": "b9M2NpRaVNE1",
        "outputId": "0c51ebca-7324-4cff-f46a-db902f839a33"
      },
      "execution_count": null,
      "outputs": [
        {
          "output_type": "stream",
          "name": "stdout",
          "text": [
            "Length of the text: 1115394 characters\n"
          ]
        }
      ]
    },
    {
      "cell_type": "code",
      "source": [
        "# Encoding \n",
        "\n",
        "vocab = sorted(set(text))\n",
        "\n",
        "# creating a mapping from unique characters to indices\n",
        "char2idx = {u: i for i, u in enumerate(vocab)}\n",
        "idx2char = np.array(vocab)\n",
        "\n",
        "def text_to_int(text):\n",
        "  return np.array([char2idx[c] for c in text])\n",
        "\n",
        "text_as_int = text_to_int(text)"
      ],
      "metadata": {
        "id": "hbsjaflsVUrP"
      },
      "execution_count": null,
      "outputs": []
    },
    {
      "cell_type": "code",
      "source": [
        "print(f\"Text: {text[:13]}\")\n",
        "print(f\"Encoded: {text_to_int(text[:13])}\")"
      ],
      "metadata": {
        "colab": {
          "base_uri": "https://localhost:8080/"
        },
        "id": "_EmxANKBWMaH",
        "outputId": "22e52e26-0994-4419-c104-bc0d12b0284f"
      },
      "execution_count": null,
      "outputs": [
        {
          "output_type": "stream",
          "name": "stdout",
          "text": [
            "Text: First Citizen\n",
            "Encoded: [18 47 56 57 58  1 15 47 58 47 64 43 52]\n"
          ]
        }
      ]
    },
    {
      "cell_type": "code",
      "source": [
        "# Decoding\n",
        "\n",
        "def int_to_text(ints):\n",
        "  try:\n",
        "    ints = ints.numpy()\n",
        "  except:\n",
        "    pass\n",
        "  return \"\".join(idx2char[ints])\n",
        "\n",
        "print(int_to_text)"
      ],
      "metadata": {
        "colab": {
          "base_uri": "https://localhost:8080/"
        },
        "id": "kO5pq0GnWbGS",
        "outputId": "081a8d62-5b97-4cd0-f0b5-dc87b281c201"
      },
      "execution_count": null,
      "outputs": [
        {
          "output_type": "stream",
          "name": "stdout",
          "text": [
            "<function int_to_text at 0x7fd668281b90>\n"
          ]
        }
      ]
    },
    {
      "cell_type": "code",
      "source": [
        "# Creating Training Examples\n",
        "\n",
        "seq_length = 100    # length of sequence for a training example\n",
        "examples_per_epoch = len(text)//(seq_length+1)\n",
        "\n",
        "# Create training examples/targets\n",
        "\n",
        "char_dataset = tf.data.Dataset.from_tensor_slices(text_as_int)"
      ],
      "metadata": {
        "id": "58kIpiV1WsoU"
      },
      "execution_count": null,
      "outputs": []
    },
    {
      "cell_type": "code",
      "source": [
        "sequences = char_dataset.batch(seq_length+1, drop_remainder=True)"
      ],
      "metadata": {
        "id": "Q9ZA3buvXgiW"
      },
      "execution_count": null,
      "outputs": []
    },
    {
      "cell_type": "code",
      "source": [
        "# Now we need to use these sequences of length 101 and split them into input and output\n",
        "\n",
        "def split_input_target(chunk):    # hello\n",
        "  input_text = chunk[:-1]         # hell\n",
        "  target_text = chunk[1:]         # ello\n",
        "  return input_text, target_text\n",
        "\n",
        "dataset = sequences.map(split_input_target)   # we use map to apply the above function to every entry"
      ],
      "metadata": {
        "id": "a_6qGiLKXn8O"
      },
      "execution_count": null,
      "outputs": []
    },
    {
      "cell_type": "code",
      "source": [
        "BATCH_SIZE = 64\n",
        "VOCAB_SIZE = len(vocab)   # number of unique characters\n",
        "EMBEDDING_DIM = 256   \n",
        "RNN_UNITS = 1024\n",
        "\n",
        "BUFFER_SIZE = 10000\n",
        "data = dataset.shuffle(BUFFER_SIZE).batch(BATCH_SIZE, drop_remainder=True)"
      ],
      "metadata": {
        "id": "B4JYoPyiYKb3"
      },
      "execution_count": null,
      "outputs": []
    },
    {
      "cell_type": "code",
      "source": [
        "# Building the Model\n",
        "\n",
        "def build_model(vocab_size, embedding_dim, rnn_units, batch_size):\n",
        "  model = tf.keras.Sequential([\n",
        "      tf.keras.layers.Embedding(vocab_size, embedding_dim, batch_input_shape=[batch_size, None]),\n",
        "      tf.keras.layers.LSTM(rnn_units, return_sequences=True, stateful=True, recurrent_initializer=\"glorot_uniform\"),\n",
        "      tf.keras.layers.Dense(vocab_size)\n",
        "  ])\n",
        "\n",
        "  return model\n",
        "\n",
        "model = build_model(VOCAB_SIZE, EMBEDDING_DIM, RNN_UNITS, BATCH_SIZE)\n",
        "model.summary()"
      ],
      "metadata": {
        "colab": {
          "base_uri": "https://localhost:8080/"
        },
        "id": "wgWPadkXYplW",
        "outputId": "e9af5bd8-18ea-4304-8e48-63e604232885"
      },
      "execution_count": null,
      "outputs": [
        {
          "output_type": "stream",
          "name": "stdout",
          "text": [
            "Model: \"sequential\"\n",
            "_________________________________________________________________\n",
            " Layer (type)                Output Shape              Param #   \n",
            "=================================================================\n",
            " embedding (Embedding)       (64, None, 256)           16640     \n",
            "                                                                 \n",
            " lstm (LSTM)                 (64, None, 1024)          5246976   \n",
            "                                                                 \n",
            " dense (Dense)               (64, None, 65)            66625     \n",
            "                                                                 \n",
            "=================================================================\n",
            "Total params: 5,330,241\n",
            "Trainable params: 5,330,241\n",
            "Non-trainable params: 0\n",
            "_________________________________________________________________\n"
          ]
        }
      ]
    },
    {
      "cell_type": "code",
      "source": [
        "# Creating a Loss Function\n",
        "\n",
        "for input_example_batch, target_example_batch in data.take(1):\n",
        "  example_batch_predictions = model(input_example_batch)    # ask our model for a prediction on our first batch of training data\n",
        "  print(example_batch_predictions.shape, \"# (batch_size, sequence_length, vocab_size)\")"
      ],
      "metadata": {
        "colab": {
          "base_uri": "https://localhost:8080/"
        },
        "id": "rog7vWuTZxvL",
        "outputId": "6ab457d1-66c1-4a20-b5dd-dfcfa0446bd7"
      },
      "execution_count": null,
      "outputs": [
        {
          "output_type": "stream",
          "name": "stdout",
          "text": [
            "(64, 100, 65) # (batch_size, sequence_length, vocab_size)\n"
          ]
        }
      ]
    },
    {
      "cell_type": "code",
      "source": [
        "# we can see that the prediction is an array of 64 arrays, one for each entry in the batch\n",
        "\n",
        "print(len(example_batch_predictions))\n",
        "print(example_batch_predictions)"
      ],
      "metadata": {
        "colab": {
          "base_uri": "https://localhost:8080/"
        },
        "id": "Cyc_8lqOa0rE",
        "outputId": "5be0d558-354a-448f-88e0-b65e50b320bc"
      },
      "execution_count": null,
      "outputs": [
        {
          "output_type": "stream",
          "name": "stdout",
          "text": [
            "64\n",
            "tf.Tensor(\n",
            "[[[ 1.68707629e-03 -4.39497089e-04  6.22705091e-04 ...  3.02484701e-03\n",
            "   -1.07179629e-04 -4.10024868e-03]\n",
            "  [ 1.40250265e-03  1.01897139e-02  8.32321239e-04 ...  2.30203639e-03\n",
            "    9.60105751e-03 -4.46917303e-03]\n",
            "  [ 3.49687366e-03  6.43038237e-03  7.34150875e-04 ...  3.63300019e-03\n",
            "    5.53371944e-03 -6.93855714e-03]\n",
            "  ...\n",
            "  [ 1.21138757e-03  2.30991165e-03  4.17162990e-03 ...  2.19183811e-03\n",
            "    5.91041474e-03 -1.20095140e-03]\n",
            "  [-2.92863976e-03  2.26190034e-03 -1.81391346e-03 ...  3.15520866e-03\n",
            "    9.62767377e-03  3.55913769e-03]\n",
            "  [-4.35876101e-03 -1.45367091e-03 -2.32692971e-03 ...  1.82141759e-03\n",
            "    7.47173605e-03  2.76342803e-03]]\n",
            "\n",
            " [[-4.22929227e-03  1.83009403e-03 -5.54334000e-03 ...  2.25832616e-03\n",
            "    5.54600125e-03  3.87816736e-03]\n",
            "  [-5.74872829e-03 -6.75533491e-04 -5.53077273e-03 ...  1.70337711e-03\n",
            "    4.85257758e-03  2.43483810e-03]\n",
            "  [-8.01402051e-03  2.02579284e-03 -4.57352377e-04 ...  1.60709338e-03\n",
            "   -6.21876097e-04 -2.91481614e-03]\n",
            "  ...\n",
            "  [-1.00244340e-02  1.14522525e-03 -6.72171265e-03 ...  7.12688034e-03\n",
            "    4.85947262e-03 -6.80889934e-05]\n",
            "  [-1.15853641e-02 -1.23540638e-03 -5.01859747e-03 ... -7.74043472e-03\n",
            "    6.05999539e-03  1.40866963e-03]\n",
            "  [-7.25758728e-03 -1.78454630e-03 -5.75966714e-03 ... -6.38949499e-03\n",
            "    4.52318741e-03 -2.97175697e-03]]\n",
            "\n",
            " [[-8.73143843e-04 -1.61832443e-03  1.01986516e-04 ...  5.34385815e-03\n",
            "    1.86656904e-03 -3.60877253e-03]\n",
            "  [ 5.58306416e-03 -1.13592891e-03 -3.66641150e-04 ...  3.89429647e-03\n",
            "   -1.05904334e-03 -5.16125234e-04]\n",
            "  [ 5.27667487e-03 -1.09157187e-03  5.79909654e-03 ...  4.84501710e-03\n",
            "   -2.20273552e-03  2.25363765e-05]\n",
            "  ...\n",
            "  [-3.82528082e-03  7.20191980e-04 -4.80561890e-03 ... -2.46898737e-04\n",
            "    7.59283872e-03  1.62280700e-03]\n",
            "  [-3.41449119e-03  1.77258323e-03 -8.97601596e-04 ...  8.21369234e-04\n",
            "    9.86686628e-03  1.76746747e-04]\n",
            "  [-8.34916718e-03  1.95828895e-03 -1.15532207e-03 ... -2.00046948e-03\n",
            "    1.26606422e-02 -2.96860328e-03]]\n",
            "\n",
            " ...\n",
            "\n",
            " [[ 1.20151835e-03 -4.06935532e-03  1.38376560e-03 ... -3.02719139e-03\n",
            "   -5.49241342e-03 -4.47552465e-03]\n",
            "  [ 6.46822155e-05 -4.78693424e-03  9.48545989e-04 ...  2.58057308e-03\n",
            "   -1.86068984e-03 -7.20132468e-03]\n",
            "  [-6.77255448e-04 -9.83600132e-03  1.55453139e-03 ... -3.53259197e-03\n",
            "   -4.62458469e-03 -1.26116723e-02]\n",
            "  ...\n",
            "  [ 5.30897221e-03 -1.67828170e-03  1.07749254e-02 ...  7.38291629e-03\n",
            "    1.00461789e-03  9.57461540e-04]\n",
            "  [ 3.68579989e-03  4.12090216e-03  8.55225511e-03 ...  9.93240159e-03\n",
            "    1.03612733e-03  1.29878824e-03]\n",
            "  [ 3.93718015e-04  9.08455625e-03  3.97668965e-03 ...  4.66099707e-03\n",
            "    6.08003512e-03 -1.12705352e-03]]\n",
            "\n",
            " [[-2.93940445e-03  1.64244429e-03  3.55862849e-03 ...  4.50742082e-05\n",
            "   -3.75463488e-03 -5.37961209e-03]\n",
            "  [-3.34463036e-03 -4.45686746e-04  2.02750391e-03 ...  5.10794017e-03\n",
            "   -1.23102451e-04 -7.14599993e-03]\n",
            "  [-1.57644902e-03  5.78137767e-03 -3.83580709e-03 ...  1.14939269e-02\n",
            "    1.77245680e-03  1.30821229e-03]\n",
            "  ...\n",
            "  [-3.40352044e-03 -2.72696721e-03 -5.57393441e-03 ...  2.06806231e-03\n",
            "    4.56328690e-03 -3.15203378e-03]\n",
            "  [-1.57411676e-03 -2.38749362e-03  2.07549520e-03 ...  3.59251141e-03\n",
            "    1.96663151e-03 -1.79284986e-03]\n",
            "  [-5.28604398e-03 -3.22756171e-03  1.84865785e-03 ...  1.80346286e-03\n",
            "    3.92631395e-03 -1.80144445e-03]]\n",
            "\n",
            " [[-3.82595672e-03 -2.58975895e-03 -1.74883450e-03 ... -1.33894826e-03\n",
            "   -2.09993403e-03  2.62264162e-04]\n",
            "  [-1.38787029e-04 -1.63384702e-03 -1.23687787e-04 ...  2.36108666e-03\n",
            "   -2.05857400e-03 -3.58902616e-03]\n",
            "  [ 2.17254320e-03 -2.29715719e-03  1.40671432e-03 ...  5.65446680e-03\n",
            "   -1.75271975e-03 -7.11259013e-03]\n",
            "  ...\n",
            "  [-8.66793841e-03  1.06969802e-03 -1.33449733e-02 ...  9.71741043e-03\n",
            "    7.61278998e-03  1.73463929e-03]\n",
            "  [-5.59709314e-03 -1.30155566e-03 -1.72992069e-02 ...  1.03575299e-02\n",
            "    6.33747643e-03 -2.28959415e-03]\n",
            "  [-5.28016360e-03 -2.30095745e-03 -1.36536835e-02 ...  1.46040730e-02\n",
            "    6.21737121e-03 -4.76441858e-03]]], shape=(64, 100, 65), dtype=float32)\n"
          ]
        }
      ]
    },
    {
      "cell_type": "code",
      "source": [
        "# Let's examine one prediction\n",
        "\n",
        "pred = example_batch_predictions[0]\n",
        "print(len(pred))\n",
        "print(pred)"
      ],
      "metadata": {
        "colab": {
          "base_uri": "https://localhost:8080/"
        },
        "id": "e3a_OgUQbFao",
        "outputId": "81b65219-8c85-465e-e7ea-058e0de2a512"
      },
      "execution_count": null,
      "outputs": [
        {
          "output_type": "stream",
          "name": "stdout",
          "text": [
            "100\n",
            "tf.Tensor(\n",
            "[[ 0.00168708 -0.0004395   0.00062271 ...  0.00302485 -0.00010718\n",
            "  -0.00410025]\n",
            " [ 0.0014025   0.01018971  0.00083232 ...  0.00230204  0.00960106\n",
            "  -0.00446917]\n",
            " [ 0.00349687  0.00643038  0.00073415 ...  0.003633    0.00553372\n",
            "  -0.00693856]\n",
            " ...\n",
            " [ 0.00121139  0.00230991  0.00417163 ...  0.00219184  0.00591041\n",
            "  -0.00120095]\n",
            " [-0.00292864  0.0022619  -0.00181391 ...  0.00315521  0.00962767\n",
            "   0.00355914]\n",
            " [-0.00435876 -0.00145367 -0.00232693 ...  0.00182142  0.00747174\n",
            "   0.00276343]], shape=(100, 65), dtype=float32)\n"
          ]
        }
      ]
    },
    {
      "cell_type": "code",
      "source": [
        "# and finally we ll look at a prediction at the first timestep\n",
        "\n",
        "time_pred = pred[0]\n",
        "print(len(time_pred))\n",
        "print(time_pred)"
      ],
      "metadata": {
        "colab": {
          "base_uri": "https://localhost:8080/"
        },
        "id": "uRGLgoWybdvX",
        "outputId": "6632d7a9-b13d-435d-c45a-393b43f56f93"
      },
      "execution_count": null,
      "outputs": [
        {
          "output_type": "stream",
          "name": "stdout",
          "text": [
            "65\n",
            "tf.Tensor(\n",
            "[ 1.6870763e-03 -4.3949709e-04  6.2270509e-04 -1.4639589e-03\n",
            "  1.1209324e-03  3.0204835e-03 -3.4940161e-03 -3.2408275e-03\n",
            "  1.8847206e-03  1.3603381e-03 -2.6363223e-03 -4.8786784e-03\n",
            " -9.3130354e-04  2.4073839e-03  5.1260635e-04  8.6727471e-04\n",
            "  4.0089018e-03  1.1922903e-03  2.5375793e-03  1.1992742e-03\n",
            " -7.3924416e-04 -2.5295001e-04  5.4805254e-04  4.5940219e-03\n",
            " -2.3432996e-03 -4.5648811e-04 -2.3401841e-03 -4.8164260e-03\n",
            " -1.3170037e-03 -5.8339495e-04  4.5012485e-04  7.3392433e-04\n",
            " -2.3255521e-03 -2.2350126e-03  1.0035140e-03 -6.9497677e-04\n",
            "  6.9384824e-04 -6.7728050e-03  3.7682983e-03 -8.2094339e-04\n",
            " -2.6920610e-03 -4.5376306e-05 -3.3760723e-03  1.6383847e-03\n",
            " -1.1885218e-04 -5.8186394e-03 -1.4856004e-03  4.5749708e-03\n",
            "  1.6207020e-03  2.5158632e-04  2.8162128e-03 -5.7365559e-03\n",
            "  3.7462462e-03 -4.2432616e-04  1.4762126e-03  6.1706835e-03\n",
            " -3.2348363e-03  5.8684597e-04  1.7441658e-03  6.5805390e-04\n",
            "  1.2503233e-03  1.9387936e-03  3.0248470e-03 -1.0717963e-04\n",
            " -4.1002487e-03], shape=(65,), dtype=float32)\n"
          ]
        }
      ]
    },
    {
      "cell_type": "code",
      "source": [],
      "metadata": {
        "id": "kfjBSUb4b4sp"
      },
      "execution_count": null,
      "outputs": []
    }
  ]
}