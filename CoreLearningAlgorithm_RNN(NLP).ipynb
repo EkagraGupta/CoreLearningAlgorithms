{
  "nbformat": 4,
  "nbformat_minor": 0,
  "metadata": {
    "colab": {
      "provenance": []
    },
    "kernelspec": {
      "name": "python3",
      "display_name": "Python 3"
    },
    "language_info": {
      "name": "python"
    },
    "accelerator": "GPU",
    "gpuClass": "standard"
  },
  "cells": [
    {
      "cell_type": "code",
      "execution_count": null,
      "metadata": {
        "id": "Iu6-5KeLyYYY"
      },
      "outputs": [],
      "source": [
        "# ---------- Recurrent Neural Network ----------"
      ]
    },
    {
      "cell_type": "code",
      "source": [
        "from keras.datasets import imdb\n",
        "from keras.preprocessing import sequence\n",
        "from keras import utils\n",
        "import tensorflow as tf\n",
        "import os\n",
        "import numpy as np\n",
        "\n",
        "VOCAB_SIZE = 88584\n",
        "\n",
        "MAXLEN = 250\n",
        "BATCH_SIZE = 64\n",
        "\n",
        "((train_data, train_labels), (test_data, test_labels)) = imdb.load_data(num_words=VOCAB_SIZE)"
      ],
      "metadata": {
        "id": "ezRiWPY2Fplg",
        "colab": {
          "base_uri": "https://localhost:8080/"
        },
        "outputId": "01337302-804b-4bd6-d493-8beb4d179896"
      },
      "execution_count": null,
      "outputs": [
        {
          "output_type": "stream",
          "name": "stdout",
          "text": [
            "Downloading data from https://storage.googleapis.com/tensorflow/tf-keras-datasets/imdb.npz\n",
            "17464789/17464789 [==============================] - 2s 0us/step\n"
          ]
        }
      ]
    },
    {
      "cell_type": "code",
      "source": [
        "# Let's look at one review\n",
        "\n",
        "len(train_data[1])"
      ],
      "metadata": {
        "colab": {
          "base_uri": "https://localhost:8080/"
        },
        "id": "5h_10TCS1Hwj",
        "outputId": "28a73dc4-f214-4b01-de8f-d97be1cd1907"
      },
      "execution_count": null,
      "outputs": [
        {
          "output_type": "execute_result",
          "data": {
            "text/plain": [
              "189"
            ]
          },
          "metadata": {},
          "execution_count": 3
        }
      ]
    },
    {
      "cell_type": "code",
      "source": [
        "# Length of each review is not same, so we trim reviews > 250 and add reviews < 250 to equate them to 250\n",
        "\n",
        "train_data = utils.pad_sequences(train_data, MAXLEN)\n",
        "test_data = utils.pad_sequences(test_data, MAXLEN)"
      ],
      "metadata": {
        "id": "pu1oulQX1Npf"
      },
      "execution_count": null,
      "outputs": []
    },
    {
      "cell_type": "code",
      "source": [
        "# Create the Model\n",
        "\n",
        "model = tf.keras.Sequential([\n",
        "    tf.keras.layers.Embedding(VOCAB_SIZE, 32),        # finds a way more meaningful representation of the numbers(words)\n",
        "    tf.keras.layers.LSTM(32),\n",
        "    tf.keras.layers.Dense(1, activation=\"sigmoid\")\n",
        "])"
      ],
      "metadata": {
        "id": "wNZIDc6N12x7"
      },
      "execution_count": null,
      "outputs": []
    },
    {
      "cell_type": "code",
      "source": [
        "model.summary()"
      ],
      "metadata": {
        "colab": {
          "base_uri": "https://localhost:8080/"
        },
        "id": "mkuvmBMU2qT7",
        "outputId": "d88e7ea2-4e74-4e4f-c44f-2187ccaa8b3e"
      },
      "execution_count": null,
      "outputs": [
        {
          "output_type": "stream",
          "name": "stdout",
          "text": [
            "Model: \"sequential\"\n",
            "_________________________________________________________________\n",
            " Layer (type)                Output Shape              Param #   \n",
            "=================================================================\n",
            " embedding (Embedding)       (None, None, 32)          2834688   \n",
            "                                                                 \n",
            " lstm (LSTM)                 (None, 32)                8320      \n",
            "                                                                 \n",
            " dense (Dense)               (None, 1)                 33        \n",
            "                                                                 \n",
            "=================================================================\n",
            "Total params: 2,843,041\n",
            "Trainable params: 2,843,041\n",
            "Non-trainable params: 0\n",
            "_________________________________________________________________\n"
          ]
        }
      ]
    },
    {
      "cell_type": "code",
      "source": [
        "# Training\n",
        "\n",
        "model.compile(loss=\"binary_crossentropy\",\n",
        "              optimizer=\"rmsprop\",\n",
        "              metrics=[\"accuracy\"])\n",
        "\n",
        "history = model.fit(train_data, train_labels, epochs=10, validation_split=0.2)"
      ],
      "metadata": {
        "colab": {
          "base_uri": "https://localhost:8080/"
        },
        "id": "_EG_QlEJ2rv9",
        "outputId": "4cebd962-05c5-4bd4-c62c-6a09b17223ed"
      },
      "execution_count": null,
      "outputs": [
        {
          "output_type": "stream",
          "name": "stdout",
          "text": [
            "Epoch 1/10\n",
            "625/625 [==============================] - 15s 12ms/step - loss: 0.4263 - accuracy: 0.8005 - val_loss: 0.3069 - val_accuracy: 0.8806\n",
            "Epoch 2/10\n",
            "625/625 [==============================] - 8s 12ms/step - loss: 0.2437 - accuracy: 0.9079 - val_loss: 0.2790 - val_accuracy: 0.8890\n",
            "Epoch 3/10\n",
            "625/625 [==============================] - 8s 12ms/step - loss: 0.1873 - accuracy: 0.9334 - val_loss: 0.2635 - val_accuracy: 0.8940\n",
            "Epoch 4/10\n",
            "625/625 [==============================] - 7s 11ms/step - loss: 0.1542 - accuracy: 0.9447 - val_loss: 0.2925 - val_accuracy: 0.8924\n",
            "Epoch 5/10\n",
            "625/625 [==============================] - 7s 12ms/step - loss: 0.1302 - accuracy: 0.9546 - val_loss: 0.3261 - val_accuracy: 0.8774\n",
            "Epoch 6/10\n",
            "625/625 [==============================] - 7s 12ms/step - loss: 0.1103 - accuracy: 0.9625 - val_loss: 0.3119 - val_accuracy: 0.8936\n",
            "Epoch 7/10\n",
            "625/625 [==============================] - 7s 12ms/step - loss: 0.0995 - accuracy: 0.9675 - val_loss: 0.3218 - val_accuracy: 0.8930\n",
            "Epoch 8/10\n",
            "625/625 [==============================] - 7s 12ms/step - loss: 0.0847 - accuracy: 0.9711 - val_loss: 0.3095 - val_accuracy: 0.8844\n",
            "Epoch 9/10\n",
            "625/625 [==============================] - 8s 13ms/step - loss: 0.0744 - accuracy: 0.9761 - val_loss: 0.4185 - val_accuracy: 0.8806\n",
            "Epoch 10/10\n",
            "625/625 [==============================] - 11s 17ms/step - loss: 0.0684 - accuracy: 0.9769 - val_loss: 0.4406 - val_accuracy: 0.8812\n"
          ]
        }
      ]
    },
    {
      "cell_type": "code",
      "source": [
        "# Prediction\n",
        "\n",
        "results = model.evaluate(test_data, test_labels)\n",
        "print(results)"
      ],
      "metadata": {
        "colab": {
          "base_uri": "https://localhost:8080/"
        },
        "id": "07naLIPx3ZD4",
        "outputId": "e629c186-6a2a-41c1-e0e7-443bcd690935"
      },
      "execution_count": null,
      "outputs": [
        {
          "output_type": "stream",
          "name": "stdout",
          "text": [
            "782/782 [==============================] - 5s 6ms/step - loss: 0.5879 - accuracy: 0.8428\n",
            "[0.5878958106040955, 0.8428000211715698]\n"
          ]
        }
      ]
    },
    {
      "cell_type": "code",
      "source": [
        "# Making predictions\n",
        "# Since are reviews are encoded well need to convert any review that we write into that form so that the network can understand it. To do that well\n",
        "# load the encodings from the dataset and use them to encode our own data\n",
        "from tensorflow import keras\n",
        "word_index = imdb.get_word_index()\n",
        "\n",
        "def encoded_text(text):\n",
        "  tokens = keras.preprocessing.text.text_to_word_sequence(text)\n",
        "  tokens = [word_index[word] if word in word_index else 0 for word in tokens]\n",
        "  return utils.pad_sequences([tokens], MAXLEN)[0]\n",
        "\n",
        "text = \"that movie was just amazing, so amazing\"\n",
        "encoded = encode_text(text)\n",
        "print(encoded)"
      ],
      "metadata": {
        "colab": {
          "base_uri": "https://localhost:8080/"
        },
        "id": "MC0DQWNX3_XN",
        "outputId": "a1ed7514-3c67-4f29-b21c-e2f43df15505"
      },
      "execution_count": null,
      "outputs": [
        {
          "output_type": "stream",
          "name": "stdout",
          "text": [
            "[  0   0   0   0   0   0   0   0   0   0   0   0   0   0   0   0   0   0\n",
            "   0   0   0   0   0   0   0   0   0   0   0   0   0   0   0   0   0   0\n",
            "   0   0   0   0   0   0   0   0   0   0   0   0   0   0   0   0   0   0\n",
            "   0   0   0   0   0   0   0   0   0   0   0   0   0   0   0   0   0   0\n",
            "   0   0   0   0   0   0   0   0   0   0   0   0   0   0   0   0   0   0\n",
            "   0   0   0   0   0   0   0   0   0   0   0   0   0   0   0   0   0   0\n",
            "   0   0   0   0   0   0   0   0   0   0   0   0   0   0   0   0   0   0\n",
            "   0   0   0   0   0   0   0   0   0   0   0   0   0   0   0   0   0   0\n",
            "   0   0   0   0   0   0   0   0   0   0   0   0   0   0   0   0   0   0\n",
            "   0   0   0   0   0   0   0   0   0   0   0   0   0   0   0   0   0   0\n",
            "   0   0   0   0   0   0   0   0   0   0   0   0   0   0   0   0   0   0\n",
            "   0   0   0   0   0   0   0   0   0   0   0   0   0   0   0   0   0   0\n",
            "   0   0   0   0   0   0   0   0   0   0   0   0   0   0   0   0   0   0\n",
            "   0   0   0   0   0   0   0   0   0  12  17  13  40 477  35 477]\n"
          ]
        }
      ]
    },
    {
      "cell_type": "code",
      "source": [
        "# Let's make a decode function\n",
        "\n",
        "reverse_word_index = {value: key for (key, value) in word_index.items()}\n",
        "\n",
        "def decode_integers(integers):\n",
        "  PAD = 0\n",
        "  text = \"\"\n",
        "  for num in integers:\n",
        "    if num != PAD:\n",
        "      text += reverse_word_index[num] + \" \"\n",
        "  return text[:-1]\n",
        "\n",
        "print(decode_integers(encoded)) "
      ],
      "metadata": {
        "colab": {
          "base_uri": "https://localhost:8080/"
        },
        "id": "aSwdfSSq5Vph",
        "outputId": "1647512c-2fc8-4bab-80ce-077162955954"
      },
      "execution_count": null,
      "outputs": [
        {
          "output_type": "stream",
          "name": "stdout",
          "text": [
            "that movie was just amazing so amazing\n"
          ]
        }
      ]
    },
    {
      "cell_type": "code",
      "source": [
        "# Now let's make predictions\n",
        "\n",
        "def predict(text):\n",
        "  encoded_txt = encoded_text(text)\n",
        "  pred = np.zeros((1, 250))\n",
        "  pred[0] = encoded_txt\n",
        "  result = model.predict(pred)\n",
        "  print(result[0])\n",
        "\n",
        "positive_review = \"That movie was so awesome! I really loved it and would watch it again because it was amazingly great\"\n",
        "negative_review = \"That movie really sucked. I hated it and wouldn't watch it again. Was one of the worst things I have ever watched\"\n",
        "\n",
        "predict(positive_review)\n",
        "predict(negative_review)"
      ],
      "metadata": {
        "colab": {
          "base_uri": "https://localhost:8080/"
        },
        "id": "aQUSdnCe6d7Y",
        "outputId": "660351ec-9dc6-449e-b988-5aa1a07faf6c"
      },
      "execution_count": null,
      "outputs": [
        {
          "output_type": "stream",
          "name": "stdout",
          "text": [
            "1/1 [==============================] - 0s 19ms/step\n",
            "[0.57587314]\n",
            "1/1 [==============================] - 0s 16ms/step\n",
            "[0.38291138]\n"
          ]
        }
      ]
    }
  ]
}